{
 "cells": [
  {
   "cell_type": "code",
   "execution_count": 1,
   "metadata": {
    "collapsed": true
   },
   "outputs": [],
   "source": [
    "import numpy as np"
   ]
  },
  {
   "cell_type": "code",
   "execution_count": 2,
   "metadata": {},
   "outputs": [
    {
     "name": "stdout",
     "output_type": "stream",
     "text": [
      "2.50e-04\n",
      "8.11e-05\n",
      "1.20e-05\n",
      "4.04e-05\n",
      "3.80e-05\n",
      "5.29e-05\n",
      "6.50e-05\n",
      "1.14e-05\n",
      "6.25e-05\n",
      "6.06e-05\n",
      "5.81e-05\n",
      "1.62e-04\n",
      "2.51e-04\n",
      "5.26e-04\n",
      "1.55e-03\n"
     ]
    }
   ],
   "source": [
    "# manual style: just run a loop and time the sorting of arrays with increasing length\n",
    "\n",
    "n = 15\n",
    "for i in range(n):\n",
    "    arr = np.random.rand(2**i)\n",
    "    t = %timeit -oq -n 2 np.sort(arr)\n",
    "    print(\"{0:.2e}\".format(t.worst))"
   ]
  },
  {
   "cell_type": "code",
   "execution_count": 3,
   "metadata": {},
   "outputs": [
    {
     "name": "stdout",
     "output_type": "stream",
     "text": [
      "2.34e-03\n",
      "2.20e-03\n",
      "1.34e-03\n",
      "1.33e-03\n",
      "1.36e-03\n",
      "1.30e-03\n",
      "2.79e-03\n",
      "1.09e-03\n",
      "1.07e-03\n",
      "1.09e-03\n",
      "1.02e-03\n",
      "1.05e-03\n",
      "1.13e-03\n",
      "1.06e-03\n",
      "1.10e-03\n"
     ]
    }
   ],
   "source": [
    "# function style: try to do the same thing inside a function\n",
    "\n",
    "def my_func(n):\n",
    "    for i in range(n):\n",
    "        arr = np.random.rand(2**i)\n",
    "        t = %timeit -oq -n 2 np.sort(arr)\n",
    "        print(\"{0:.2e}\".format(t.worst))\n",
    "my_func(15)    "
   ]
  },
  {
   "cell_type": "code",
   "execution_count": null,
   "metadata": {
    "collapsed": true
   },
   "outputs": [],
   "source": []
  }
 ],
 "metadata": {
  "kernelspec": {
   "display_name": "Python 3",
   "language": "python",
   "name": "python3"
  },
  "language_info": {
   "codemirror_mode": {
    "name": "ipython",
    "version": 2
   },
   "file_extension": ".py",
   "mimetype": "text/x-python",
   "name": "python",
   "nbconvert_exporter": "python",
   "pygments_lexer": "ipython2",
   "version": "2.7.12"
  }
 },
 "nbformat": 4,
 "nbformat_minor": 2
}
