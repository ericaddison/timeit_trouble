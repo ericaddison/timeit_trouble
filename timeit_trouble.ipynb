{
 "cells": [
  {
   "cell_type": "code",
   "execution_count": 2,
   "metadata": {
    "collapsed": true
   },
   "outputs": [],
   "source": [
    "import numpy as np"
   ]
  },
  {
   "cell_type": "code",
   "execution_count": 14,
   "metadata": {},
   "outputs": [
    {
     "name": "stdout",
     "output_type": "stream",
     "text": [
      "10 loops, best of 3: 74.4 µs per loop\n",
      "10 loops, best of 3: 183 µs per loop\n",
      "10 loops, best of 3: 220 µs per loop\n",
      "10 loops, best of 3: 494 µs per loop\n",
      "10 loops, best of 3: 1.01 ms per loop\n",
      "10 loops, best of 3: 2.12 ms per loop\n",
      "10 loops, best of 3: 4.44 ms per loop\n",
      "10 loops, best of 3: 9.78 ms per loop\n",
      "10 loops, best of 3: 20.2 ms per loop\n",
      "10 loops, best of 3: 43.2 ms per loop\n"
     ]
    }
   ],
   "source": [
    "# manual style: just run a loop and time the sorting of arrays with increasing length\n",
    "\n",
    "n = 10\n",
    "for i in range(n):\n",
    "    arr = np.random.rand(2**(i+10))\n",
    "    %timeit -n 10 np.sort(arr)"
   ]
  },
  {
   "cell_type": "code",
   "execution_count": 13,
   "metadata": {},
   "outputs": [
    {
     "name": "stdout",
     "output_type": "stream",
     "text": [
      "10 loops, best of 3: 43.3 ms per loop\n",
      "10 loops, best of 3: 42.9 ms per loop\n",
      "10 loops, best of 3: 42.3 ms per loop\n",
      "10 loops, best of 3: 42.8 ms per loop\n",
      "10 loops, best of 3: 42.9 ms per loop\n",
      "10 loops, best of 3: 42.9 ms per loop\n",
      "10 loops, best of 3: 43.2 ms per loop\n",
      "10 loops, best of 3: 42.8 ms per loop\n",
      "10 loops, best of 3: 43.1 ms per loop\n",
      "10 loops, best of 3: 43.5 ms per loop\n"
     ]
    }
   ],
   "source": [
    "# function style: try to do the same thing inside a function\n",
    "\n",
    "def my_func(n):\n",
    "    for i in range(n):\n",
    "        arr = np.random.rand(2**(i+10))\n",
    "        %timeit -n 10 np.sort(arr)\n",
    "my_func(10)    "
   ]
  },
  {
   "cell_type": "code",
   "execution_count": null,
   "metadata": {
    "collapsed": true
   },
   "outputs": [],
   "source": []
  }
 ],
 "metadata": {
  "kernelspec": {
   "display_name": "Python 3",
   "language": "python",
   "name": "python3"
  },
  "language_info": {
   "codemirror_mode": {
    "name": "ipython",
    "version": 2
   },
   "file_extension": ".py",
   "mimetype": "text/x-python",
   "name": "python",
   "nbconvert_exporter": "python",
   "pygments_lexer": "ipython2",
   "version": "2.7.12"
  }
 },
 "nbformat": 4,
 "nbformat_minor": 2
}
